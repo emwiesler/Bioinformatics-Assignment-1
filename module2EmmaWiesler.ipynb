{
 "cells": [
  {
   "cell_type": "markdown",
   "id": "1c22dff9",
   "metadata": {},
   "source": [
    "Chapter SM Exercise 1\n",
    "    For the DNA sequence ACGCTGA,\n",
    "        (i) determine the number of mononucleotide permutations;\n",
    "        (ii) find all dinucleotide permutations that also preserve the mononucleotide composition.\n",
    "        (iii) Can you find additional dinucleotide permutations that do not preserve the mononucleotide composition?  Explain in general if and when that might be possible.\n",
    "        \n",
    "        \n",
    "1i: 7!/(2!2!2!1!) = 630\n",
    "1ii: make graph demonstrating relationship between the letters, there are 2 possibilities, ACGCTGA and ACTGCGA\n",
    "1iii: You are not going to be able to have different dinucleotide permutations that do not preserve the mononucleotide composition because each dinucleotide will contain the same mononucleotide composition. If you added in new or changed the nucleotides in the sequence to change the mononucleotide composition, you will be altering the dinucleotide composition."
   ]
  },
  {
   "cell_type": "markdown",
   "id": "643e1b33",
   "metadata": {},
   "source": [
    "2) Consider random sequences over the alphabet {R, Y}, where in each position R is drawn with probability p, and Y is drawn with probability q = 1-p.\n",
    "\n",
    "(i)   Determine the expected waiting time to pattern RR as a function of the parameter p. [2 pnts]\n",
    "(ii)  Determine the expected waiting time to pattern RY as a function of the parameter p. [2 pnts]\n",
    "(iii) Calculate the expected waiting times in (i) and (ii) for the cases p=0.5 and p=0.75. Interpret your results. [2 pnts]\n",
    "(iv)  Submit code to your github site (see below) that determines the mean waiting times in randomly generated sequences. Compare the results with your values determined in (iii). [4 pnts]\n",
    "\n",
    "\n",
    "2i) u = p+1/p^2\n",
    "2ii) u = 1/p-p^2\n",
    "2iii) For RR at .5 probability the waiting time is 6. For .75 the waiting time is 3.11\n",
    "For RY at .5 the waiting time is 4 and for .75 it is 5.33"
   ]
  },
  {
   "cell_type": "code",
   "execution_count": 11,
   "id": "38fb0801",
   "metadata": {},
   "outputs": [
    {
     "name": "stdout",
     "output_type": "stream",
     "text": [
      "Number of sequences generated: 100\n",
      "Average waiting time of 100 sequences: 4.004\n"
     ]
    }
   ],
   "source": [
    "#Altered from lab4, random sequence generator\n",
    "import numpy as np\n",
    "from random import random\n",
    "#Getting a sequence \n",
    "def waitingTime(valP, pattern):\n",
    "    #Setting the probabilities \n",
    "    p = valP\n",
    "    q = 1 - valP\n",
    "    probability = dict()\n",
    "    probability['R']=p\n",
    "    probability['Y']=q\n",
    "    pattern_size = len(pattern)\n",
    "    sequence =''\n",
    "\n",
    "    # Main loop\n",
    "    while len(sequence) < pattern_size or sequence[-pattern_size:] != pattern:\n",
    "        ran = random()\n",
    "        pVar = 0\n",
    "        for letter in probability :\n",
    "            pVar += probability[letter]\n",
    "            if ran<pVar:\n",
    "                sequence += letter\n",
    "                break\n",
    "\n",
    "    # Return length of the generated sequence\n",
    "    return len(sequence)\n",
    "prob = .5\n",
    "pattern = \"RY\"\n",
    "# Sample waiting times\n",
    "waiting_times = [ waitingTime(prob, pattern) for i in range(10000)]\n",
    "\n",
    "print(\"Number of sequences generated: %d\" % (n))\n",
    "print(\"Average waiting time of %d sequences: %.3f\" % (n,np.mean(waiting_times)))"
   ]
  },
  {
   "cell_type": "markdown",
   "id": "3194ec08",
   "metadata": {},
   "source": [
    "Coded values\n",
    "RR probablility .5 = 5.815\n",
    "    .75 = 3.16\n",
    "RY probability .5 = 3.868\n",
    "    .75 = 5.480"
   ]
  }
 ],
 "metadata": {
  "kernelspec": {
   "display_name": "Python 3",
   "language": "python",
   "name": "python3"
  },
  "language_info": {
   "codemirror_mode": {
    "name": "ipython",
    "version": 3
   },
   "file_extension": ".py",
   "mimetype": "text/x-python",
   "name": "python",
   "nbconvert_exporter": "python",
   "pygments_lexer": "ipython3",
   "version": "3.8.8"
  }
 },
 "nbformat": 4,
 "nbformat_minor": 5
}
